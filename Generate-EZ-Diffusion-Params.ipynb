{
 "cells": [
  {
   "cell_type": "code",
   "execution_count": 10,
   "metadata": {
    "collapsed": false
   },
   "outputs": [],
   "source": [
    "import pandas as pd\n",
    "import numpy as np\n",
    "import math\n",
    "\n",
    "def logit(p):\n",
    "    return math.log(p/(1-p))\n",
    "\n",
    "def ezdiff(subject_id,MRT,VRT,p):\n",
    "\n",
    "    if p == 0:\n",
    "        print(\"Oops, only errors for subject \" + subject_id + \"!\")\n",
    "    elif p == 0.5:\n",
    "        print(\"Oops, chance performance for \" + subject_id + \"!\")\n",
    "    elif p == 1:\n",
    "        print(\"Oops,  only correct responses for \" + subject_id + \"!\")\n",
    "    \n",
    "    s = 0.1\n",
    "    s2 = s*s # scaling parameter squared\n",
    "    L = logit(p)\n",
    "    x1 = (L*p*p - L*p + p - 0.5)\n",
    "    x = L * x1 / VRT\n",
    "    v = np.sign(p - 0.5) * s*math.pow(x,0.25)\n",
    "    a = s2*logit(p)/v\n",
    "    y = -v*a/s2\n",
    "    MDT = (a/(2*v))*(1-math.exp(y))/(1+math.exp(y))\n",
    "    Ter = MRT - MDT\n",
    "    \n",
    "    return([v,a,Ter])"
   ]
  },
  {
   "cell_type": "code",
   "execution_count": 11,
   "metadata": {
    "collapsed": false
   },
   "outputs": [],
   "source": [
    "subject_ids = [771,795,796,800,818,819,820,832,833,844,845,846,861,862,877,893,895,896,897,898,899,908,909,910,911,925,926,954,955]\n",
    "#subject_ids = [771]\n",
    "shift_locations = [-90,-45,0,45,90]\n",
    "\n",
    "results = []\n",
    "\n",
    "for subject_id in subject_ids:\n",
    "    behavioral_all = pd.read_csv('shifted/vigilance_' + str(subject_id) + '_shifted.csv',header=None,names=['location','accuracy','RT'])\n",
    "    mean = behavioral_all['RT'].mean()\n",
    "    std = behavioral_all['RT'].std()\n",
    "    \n",
    "    # remove trials below three standard deviations of the mean\n",
    "    behavioral = behavioral_all[behavioral_all['RT'] > (mean - 3*std)]\n",
    "    \n",
    "    # save subject_id parameters as new row in results\n",
    "    row = [subject_id]\n",
    "    \n",
    "    # calculate EZ parameters for each shift location\n",
    "    for loc in shift_locations:\n",
    "        shift_trials = behavioral[behavioral['location'] == loc]\n",
    "        \n",
    "        # scale to seconds\n",
    "        mean = shift_trials['RT'].mean() / 1000\n",
    "        \n",
    "        # scale to seconds squared\n",
    "        var = shift_trials['RT'].var() / 1000000\n",
    "        \n",
    "        acc = shift_trials['accuracy'].mean()\n",
    "  \n",
    "        [v,a,Ter] = ezdiff(subject_id,mean,var,acc)\n",
    "    \n",
    "        row += [mean,var,acc,v,a,Ter]\n",
    "    \n",
    "    results += [row]\n",
    "\n",
    "# setup column names based on shift locations\n",
    "column_names = ['subject_id']\n",
    "\n",
    "for loc in shift_locations:\n",
    "    column_names += ['mean_'+str(loc),\n",
    "                     'var_'+str(loc),\n",
    "                     'acc_'+str(loc),\n",
    "                     'v_'+str(loc),\n",
    "                     'a_'+str(loc),\n",
    "                     'Ter_'+str(loc)]\n",
    "\n",
    "pd.DataFrame(results).to_csv('EZ-shifted-stats-12-6-2019.csv',index=False, header=column_names)"
   ]
  },
  {
   "cell_type": "code",
   "execution_count": 45,
   "metadata": {
    "collapsed": false
   },
   "outputs": [
    {
     "name": "stdout",
     "output_type": "stream",
     "text": [
      "0.062\n",
      "x: 6.08047957548\n",
      "v: 0.157030660893\n",
      "a: 0.13185150339\n",
      "y: -2.0704728717\n",
      "MDT: 0.325785951765\n",
      "Ter: 0.261214048235\n"
     ]
    },
    {
     "data": {
      "text/plain": [
       "[0.15703066089267317, 0.13185150338965945, 0.26121404823511851]"
      ]
     },
     "execution_count": 45,
     "metadata": {},
     "output_type": "execute_result"
    }
   ],
   "source": [
    "ezdiff(1,0.587,0.062,0.888)"
   ]
  },
  {
   "cell_type": "code",
   "execution_count": null,
   "metadata": {
    "collapsed": true
   },
   "outputs": [],
   "source": []
  }
 ],
 "metadata": {
  "anaconda-cloud": {},
  "kernelspec": {
   "display_name": "Python [default]",
   "language": "python",
   "name": "python2"
  },
  "language_info": {
   "codemirror_mode": {
    "name": "ipython",
    "version": 2
   },
   "file_extension": ".py",
   "mimetype": "text/x-python",
   "name": "python",
   "nbconvert_exporter": "python",
   "pygments_lexer": "ipython2",
   "version": "2.7.12"
  }
 },
 "nbformat": 4,
 "nbformat_minor": 1
}
